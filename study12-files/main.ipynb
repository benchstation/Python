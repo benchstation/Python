{
 "cells": [
  {
   "cell_type": "markdown",
   "metadata": {},
   "source": [
    "# Arquivos"
   ]
  },
  {
   "cell_type": "markdown",
   "metadata": {},
   "source": [
    "Um arquivo é um conjunto de bytes ao qual é atribuído um nome e são utilizados em diferentes tipos de aplicações. É um recurso de armazenamento permanente de dados em disco.\n",
    "\n",
    "Existem dois tipos básicos de arquivos: \n",
    "- Arquivo de texto \n",
    "- Arquivo binário"
   ]
  },
  {
   "cell_type": "markdown",
   "metadata": {},
   "source": [
    "### Manipulação de arquivos em Python usando a função nativa `open()`"
   ]
  },
  {
   "cell_type": "markdown",
   "metadata": {},
   "source": [
    "Exemplo usando o arquivo `sisinf.md` localizado no diretório `sample_data` extraído da Wikipedia."
   ]
  },
  {
   "cell_type": "code",
   "execution_count": 16,
   "metadata": {},
   "outputs": [],
   "source": [
    "arquivo = open('../sample_data/sisinfo.md', 'r',  encoding='utf-8')\n",
    "conteudo = arquivo.readlines()\n",
    "arquivo.close()"
   ]
  },
  {
   "cell_type": "code",
   "execution_count": 17,
   "metadata": {},
   "outputs": [
    {
     "name": "stdout",
     "output_type": "stream",
     "text": [
      "['# Sistema de Informação\\n', '\\n', '### Definição\\n', '\\n', 'Um sistema de informação é um conjunto de recursos que coleta, processa, armazena e distribui informações para auxiliar na tomada de decisões, na comunicação e no planejamento em uma organização. Pode ser tanto um sistema manual quanto um sistema computadorizado.\\n', '\\n', '### Componentes\\n', '\\n', 'Um sistema de informação típico inclui os seguintes componentes:\\n', '\\n', '1. **Dados:** Fatos brutos que são coletados e organizados.\\n', '2. **Hardware:** Os componentes físicos do sistema, como computadores, servidores e dispositivos de armazenamento.\\n', '3. **Software:** Os programas que executam as tarefas do sistema.\\n', '4. **Redes:** As comunicações que conectam os componentes do sistema.\\n', '5. **Pessoas:** Os usuários e administradores do sistema.\\n', '6. **Processos:** As instruções que definem como os dados são processados e utilizados.\\n', '\\n', '### Tipos de Sistemas de Informação\\n', '\\n', 'Existem muitos tipos de sistemas de informação, mas alguns dos mais comuns incluem:\\n', '\\n', '* **Sistemas de informação gerenciais (SIG):** Suportam as atividades de planejamento, controle e tomada de decisões dos gerentes.\\n', '* **Sistemas de apoio à decisão (SAD):** Fornecem aos gerentes informações e ferramentas para tomar decisões melhores.\\n', '* **Sistemas de informação transacionais (SIT):** Processam as transações diárias de uma organização, como vendas, compras e pagamentos.\\n', '* **Sistemas de informação de escritório:** Suportam as atividades de comunicação e colaboração dos funcionários.\\n', '\\n', '### Benefícios dos Sistemas de Informação\\n', '\\n', 'Os sistemas de informação podem trazer muitos benefícios para uma organização, incluindo:\\n', '\\n', '* **Melhoria na tomada de decisões:** Os sistemas de informação podem fornecer aos gerentes as informações de que precisam para tomar decisões melhores.\\n', '* **Aumento da produtividade:** Os sistemas de informação podem automatizar tarefas e tornar os processos mais eficientes, o que pode aumentar a produtividade dos funcionários.\\n', '* **Melhoria na comunicação:** Os sistemas de informação podem facilitar a comunicação entre os funcionários, o que pode melhorar a colaboração e o trabalho em equipe.\\n', '* **Redução de custos:** Os sistemas de informação podem ajudar a reduzir custos, como custos de papel e de mão de obra.\\n', '\\n', '### Evolução Histórica dos Sistemas de Informação\\n', '\\n', 'Os sistemas de informação têm evoluído ao longo do tempo, desde os sistemas manuais dos primórdios da civilização até os sistemas computadorizados modernos. Algumas das principais etapas dessa evolução incluem:\\n', '\\n', '* **Antes de 1940:** Os sistemas de informação eram baseados em técnicas de arquivamento e recuperação de informações de grandes arquivos.\\n', '* **1940-1952:** A invenção dos computadores eletrônicos possibilitou o processamento automático de dados.\\n', '* **1952-1964:** O desenvolvimento dos transistores levou à miniaturização dos computadores e à criação dos primeiros microprocessadores.\\n', '* **1964-1971:** A criação dos circuitos integrados permitiu a integração de milhares de transistores em um único chip.\\n', '* **1971-1981:** O desenvolvimento dos microcomputadores tornou os sistemas de informação mais acessíveis às pequenas empresas e aos indivíduos.\\n', '* **1981-atual:** A internet e a World Wide Web revolucionaram a forma como as informações são compartilhadas e acessadas.\\n', '\\n', '### Tendências Futuras dos Sistemas de Informação\\n', '\\n', 'As tendências futuras dos sistemas de informação incluem:\\n', '\\n', '* **Inteligência artificial:** A inteligência artificial será cada vez mais utilizada para automatizar tarefas e fornecer insights a partir dos dados.\\n', '* **Internet das coisas:** A internet das coisas conectará bilhões de dispositivos à internet, gerando uma enorme quantidade de dados.\\n', '* **Computação em nuvem:** A computação em nuvem permitirá que as organizações acessem recursos de computação e armazenamento de forma flexível e escalável.\\n', '\\n', '### Conclusão\\n', '\\n', 'Os sistemas de informação são essenciais para o sucesso das organizações no mundo digital. Ao compreender os componentes, os tipos, os benefícios e a evolução dos sistemas de informação, as organizações podem tomar decisões informadas sobre como investir em tecnologia da informação para alcançar seus objetivos.\\n']\n",
      "# Sistema de Informação\n",
      "\n",
      "Um sistema de informação é um conjunto de recursos que coleta, processa, armazena e distribui informações para auxiliar na tomada de decisões, na comunicação e no planejamento em uma organização. Pode ser tanto um sistema manual quanto um sistema computadorizado.\n",
      "\n"
     ]
    }
   ],
   "source": [
    "len(conteudo)\n",
    "\n",
    "# O caractere \"\\n\" serve como separador de cada índice do vetor\n",
    "conteudo[0]\n",
    "conteudo[1]\n",
    "\n",
    "print(conteudo)\n",
    "print(conteudo[0])\n",
    "print(conteudo[4])"
   ]
  },
  {
   "cell_type": "code",
   "execution_count": 18,
   "metadata": {},
   "outputs": [
    {
     "name": "stdout",
     "output_type": "stream",
     "text": [
      "# Sistema de Informação\n",
      "\n",
      "\n",
      "\n",
      "### Definição\n",
      "\n",
      "\n",
      "\n",
      "Um sistema de informação é um conjunto de recursos que coleta, processa, armazena e distribui informações para auxiliar na tomada de decisões, na comunicação e no planejamento em uma organização. Pode ser tanto um sistema manual quanto um sistema computadorizado.\n",
      "\n",
      "\n",
      "\n",
      "### Componentes\n",
      "\n",
      "\n",
      "\n",
      "Um sistema de informação típico inclui os seguintes componentes:\n",
      "\n",
      "\n",
      "\n",
      "1. **Dados:** Fatos brutos que são coletados e organizados.\n",
      "\n",
      "2. **Hardware:** Os componentes físicos do sistema, como computadores, servidores e dispositivos de armazenamento.\n",
      "\n",
      "3. **Software:** Os programas que executam as tarefas do sistema.\n",
      "\n",
      "4. **Redes:** As comunicações que conectam os componentes do sistema.\n",
      "\n",
      "5. **Pessoas:** Os usuários e administradores do sistema.\n",
      "\n",
      "6. **Processos:** As instruções que definem como os dados são processados e utilizados.\n",
      "\n",
      "\n",
      "\n",
      "### Tipos de Sistemas de Informação\n",
      "\n",
      "\n",
      "\n",
      "Existem muitos tipos de sistemas de informação, mas alguns dos mais comuns incluem:\n",
      "\n",
      "\n",
      "\n",
      "* **Sistemas de informação gerenciais (SIG):** Suportam as atividades de planejamento, controle e tomada de decisões dos gerentes.\n",
      "\n",
      "* **Sistemas de apoio à decisão (SAD):** Fornecem aos gerentes informações e ferramentas para tomar decisões melhores.\n",
      "\n",
      "* **Sistemas de informação transacionais (SIT):** Processam as transações diárias de uma organização, como vendas, compras e pagamentos.\n",
      "\n",
      "* **Sistemas de informação de escritório:** Suportam as atividades de comunicação e colaboração dos funcionários.\n",
      "\n",
      "\n",
      "\n",
      "### Benefícios dos Sistemas de Informação\n",
      "\n",
      "\n",
      "\n",
      "Os sistemas de informação podem trazer muitos benefícios para uma organização, incluindo:\n",
      "\n",
      "\n",
      "\n",
      "* **Melhoria na tomada de decisões:** Os sistemas de informação podem fornecer aos gerentes as informações de que precisam para tomar decisões melhores.\n",
      "\n",
      "* **Aumento da produtividade:** Os sistemas de informação podem automatizar tarefas e tornar os processos mais eficientes, o que pode aumentar a produtividade dos funcionários.\n",
      "\n",
      "* **Melhoria na comunicação:** Os sistemas de informação podem facilitar a comunicação entre os funcionários, o que pode melhorar a colaboração e o trabalho em equipe.\n",
      "\n",
      "* **Redução de custos:** Os sistemas de informação podem ajudar a reduzir custos, como custos de papel e de mão de obra.\n",
      "\n",
      "\n",
      "\n",
      "### Evolução Histórica dos Sistemas de Informação\n",
      "\n",
      "\n",
      "\n",
      "Os sistemas de informação têm evoluído ao longo do tempo, desde os sistemas manuais dos primórdios da civilização até os sistemas computadorizados modernos. Algumas das principais etapas dessa evolução incluem:\n",
      "\n",
      "\n",
      "\n",
      "* **Antes de 1940:** Os sistemas de informação eram baseados em técnicas de arquivamento e recuperação de informações de grandes arquivos.\n",
      "\n",
      "* **1940-1952:** A invenção dos computadores eletrônicos possibilitou o processamento automático de dados.\n",
      "\n",
      "* **1952-1964:** O desenvolvimento dos transistores levou à miniaturização dos computadores e à criação dos primeiros microprocessadores.\n",
      "\n",
      "* **1964-1971:** A criação dos circuitos integrados permitiu a integração de milhares de transistores em um único chip.\n",
      "\n",
      "* **1971-1981:** O desenvolvimento dos microcomputadores tornou os sistemas de informação mais acessíveis às pequenas empresas e aos indivíduos.\n",
      "\n",
      "* **1981-atual:** A internet e a World Wide Web revolucionaram a forma como as informações são compartilhadas e acessadas.\n",
      "\n",
      "\n",
      "\n",
      "### Tendências Futuras dos Sistemas de Informação\n",
      "\n",
      "\n",
      "\n",
      "As tendências futuras dos sistemas de informação incluem:\n",
      "\n",
      "\n",
      "\n",
      "* **Inteligência artificial:** A inteligência artificial será cada vez mais utilizada para automatizar tarefas e fornecer insights a partir dos dados.\n",
      "\n",
      "* **Internet das coisas:** A internet das coisas conectará bilhões de dispositivos à internet, gerando uma enorme quantidade de dados.\n",
      "\n",
      "* **Computação em nuvem:** A computação em nuvem permitirá que as organizações acessem recursos de computação e armazenamento de forma flexível e escalável.\n",
      "\n",
      "\n",
      "\n",
      "### Conclusão\n",
      "\n",
      "\n",
      "\n",
      "Os sistemas de informação são essenciais para o sucesso das organizações no mundo digital. Ao compreender os componentes, os tipos, os benefícios e a evolução dos sistemas de informação, as organizações podem tomar decisões informadas sobre como investir em tecnologia da informação para alcançar seus objetivos.\n",
      "\n"
     ]
    }
   ],
   "source": [
    "for linha in conteudo:\n",
    " print(linha)\n"
   ]
  },
  {
   "cell_type": "code",
   "execution_count": 19,
   "metadata": {},
   "outputs": [
    {
     "name": "stdout",
     "output_type": "stream",
     "text": [
      "# Sistema de Informação\n",
      "\n",
      "### Definição\n",
      "\n",
      "Um sistema de informação é um conjunto de recursos que coleta, processa, armazena e distribui informações para auxiliar na tomada de decisões, na comunicação e no planejamento em uma organização. Pode ser tanto um sistema manual quanto um sistema computadorizado.\n",
      "\n",
      "### Componentes\n",
      "\n",
      "Um sistema de informação típico inclui os seguintes componentes:\n",
      "\n",
      "1. **Dados:** Fatos brutos que são coletados e organizados.\n",
      "2. **Hardware:** Os componentes físicos do sistema, como computadores, servidores e dispositivos de armazenamento.\n",
      "3. **Software:** Os programas que executam as tarefas do sistema.\n",
      "4. **Redes:** As comunicações que conectam os componentes do sistema.\n",
      "5. **Pessoas:** Os usuários e administradores do sistema.\n",
      "6. **Processos:** As instruções que definem como os dados são processados e utilizados.\n",
      "\n",
      "### Tipos de Sistemas de Informação\n",
      "\n",
      "Existem muitos tipos de sistemas de informação, mas alguns dos mais comuns incluem:\n",
      "\n",
      "* **Sistemas de informação gerenciais (SIG):** Suportam as atividades de planejamento, controle e tomada de decisões dos gerentes.\n",
      "* **Sistemas de apoio à decisão (SAD):** Fornecem aos gerentes informações e ferramentas para tomar decisões melhores.\n",
      "* **Sistemas de informação transacionais (SIT):** Processam as transações diárias de uma organização, como vendas, compras e pagamentos.\n",
      "* **Sistemas de informação de escritório:** Suportam as atividades de comunicação e colaboração dos funcionários.\n",
      "\n",
      "### Benefícios dos Sistemas de Informação\n",
      "\n",
      "Os sistemas de informação podem trazer muitos benefícios para uma organização, incluindo:\n",
      "\n",
      "* **Melhoria na tomada de decisões:** Os sistemas de informação podem fornecer aos gerentes as informações de que precisam para tomar decisões melhores.\n",
      "* **Aumento da produtividade:** Os sistemas de informação podem automatizar tarefas e tornar os processos mais eficientes, o que pode aumentar a produtividade dos funcionários.\n",
      "* **Melhoria na comunicação:** Os sistemas de informação podem facilitar a comunicação entre os funcionários, o que pode melhorar a colaboração e o trabalho em equipe.\n",
      "* **Redução de custos:** Os sistemas de informação podem ajudar a reduzir custos, como custos de papel e de mão de obra.\n",
      "\n",
      "### Evolução Histórica dos Sistemas de Informação\n",
      "\n",
      "Os sistemas de informação têm evoluído ao longo do tempo, desde os sistemas manuais dos primórdios da civilização até os sistemas computadorizados modernos. Algumas das principais etapas dessa evolução incluem:\n",
      "\n",
      "* **Antes de 1940:** Os sistemas de informação eram baseados em técnicas de arquivamento e recuperação de informações de grandes arquivos.\n",
      "* **1940-1952:** A invenção dos computadores eletrônicos possibilitou o processamento automático de dados.\n",
      "* **1952-1964:** O desenvolvimento dos transistores levou à miniaturização dos computadores e à criação dos primeiros microprocessadores.\n",
      "* **1964-1971:** A criação dos circuitos integrados permitiu a integração de milhares de transistores em um único chip.\n",
      "* **1971-1981:** O desenvolvimento dos microcomputadores tornou os sistemas de informação mais acessíveis às pequenas empresas e aos indivíduos.\n",
      "* **1981-atual:** A internet e a World Wide Web revolucionaram a forma como as informações são compartilhadas e acessadas.\n",
      "\n",
      "### Tendências Futuras dos Sistemas de Informação\n",
      "\n",
      "As tendências futuras dos sistemas de informação incluem:\n",
      "\n",
      "* **Inteligência artificial:** A inteligência artificial será cada vez mais utilizada para automatizar tarefas e fornecer insights a partir dos dados.\n",
      "* **Internet das coisas:** A internet das coisas conectará bilhões de dispositivos à internet, gerando uma enorme quantidade de dados.\n",
      "* **Computação em nuvem:** A computação em nuvem permitirá que as organizações acessem recursos de computação e armazenamento de forma flexível e escalável.\n",
      "\n",
      "### Conclusão\n",
      "\n",
      "Os sistemas de informação são essenciais para o sucesso das organizações no mundo digital. Ao compreender os componentes, os tipos, os benefícios e a evolução dos sistemas de informação, as organizações podem tomar decisões informadas sobre como investir em tecnologia da informação para alcançar seus objetivos.\n",
      "\n"
     ]
    }
   ],
   "source": [
    "x=''\n",
    "for linha in conteudo:\n",
    "    if linha!='':\n",
    "        x=x+linha\n",
    "\n",
    "print(x)"
   ]
  },
  {
   "cell_type": "code",
   "execution_count": 20,
   "metadata": {},
   "outputs": [
    {
     "name": "stdout",
     "output_type": "stream",
     "text": [
      "# Sistema de Informação\n",
      "\n",
      "### Definição\n",
      "\n",
      "Um engenharia de software é um conjunto de recursos que coleta, processa, armazena e distribui informações para auxiliar na tomada de decisões, na comunicação e no planejamento em uma organização. Pode ser tanto um sistema manual quanto um sistema computadorizado.\n",
      "\n",
      "### Componentes\n",
      "\n",
      "Um engenharia de software típico inclui os seguintes componentes:\n",
      "\n",
      "1. **Dados:** Fatos brutos que são coletados e organizados.\n",
      "2. **Hardware:** Os componentes físicos do sistema, como computadores, servidores e dispositivos de armazenamento.\n",
      "3. **Software:** Os programas que executam as tarefas do sistema.\n",
      "4. **Redes:** As comunicações que conectam os componentes do sistema.\n",
      "5. **Pessoas:** Os usuários e administradores do sistema.\n",
      "6. **Processos:** As instruções que definem como os dados são processados e utilizados.\n",
      "\n",
      "### Tipos de Sistemas de Informação\n",
      "\n",
      "Existem muitos tipos de sistemas de informação, mas alguns dos mais comuns incluem:\n",
      "\n",
      "* **Sistemas de informação gerenciais (SIG):** Suportam as atividades de planejamento, controle e tomada de decisões dos gerentes.\n",
      "* **Sistemas de apoio à decisão (SAD):** Fornecem aos gerentes informações e ferramentas para tomar decisões melhores.\n",
      "* **Sistemas de informação transacionais (SIT):** Processam as transações diárias de uma organização, como vendas, compras e pagamentos.\n",
      "* **Sistemas de informação de escritório:** Suportam as atividades de comunicação e colaboração dos funcionários.\n",
      "\n",
      "### Benefícios dos Sistemas de Informação\n",
      "\n",
      "Os sistemas de informação podem trazer muitos benefícios para uma organização, incluindo:\n",
      "\n",
      "* **Melhoria na tomada de decisões:** Os sistemas de informação podem fornecer aos gerentes as informações de que precisam para tomar decisões melhores.\n",
      "* **Aumento da produtividade:** Os sistemas de informação podem automatizar tarefas e tornar os processos mais eficientes, o que pode aumentar a produtividade dos funcionários.\n",
      "* **Melhoria na comunicação:** Os sistemas de informação podem facilitar a comunicação entre os funcionários, o que pode melhorar a colaboração e o trabalho em equipe.\n",
      "* **Redução de custos:** Os sistemas de informação podem ajudar a reduzir custos, como custos de papel e de mão de obra.\n",
      "\n",
      "### Evolução Histórica dos Sistemas de Informação\n",
      "\n",
      "Os sistemas de informação têm evoluído ao longo do tempo, desde os sistemas manuais dos primórdios da civilização até os sistemas computadorizados modernos. Algumas das principais etapas dessa evolução incluem:\n",
      "\n",
      "* **Antes de 1940:** Os sistemas de informação eram baseados em técnicas de arquivamento e recuperação de informações de grandes arquivos.\n",
      "* **1940-1952:** A invenção dos computadores eletrônicos possibilitou o processamento automático de dados.\n",
      "* **1952-1964:** O desenvolvimento dos transistores levou à miniaturização dos computadores e à criação dos primeiros microprocessadores.\n",
      "* **1964-1971:** A criação dos circuitos integrados permitiu a integração de milhares de transistores em um único chip.\n",
      "* **1971-1981:** O desenvolvimento dos microcomputadores tornou os sistemas de informação mais acessíveis às pequenas empresas e aos indivíduos.\n",
      "* **1981-atual:** A internet e a World Wide Web revolucionaram a forma como as informações são compartilhadas e acessadas.\n",
      "\n",
      "### Tendências Futuras dos Sistemas de Informação\n",
      "\n",
      "As tendências futuras dos sistemas de informação incluem:\n",
      "\n",
      "* **Inteligência artificial:** A inteligência artificial será cada vez mais utilizada para automatizar tarefas e fornecer insights a partir dos dados.\n",
      "* **Internet das coisas:** A internet das coisas conectará bilhões de dispositivos à internet, gerando uma enorme quantidade de dados.\n",
      "* **Computação em nuvem:** A computação em nuvem permitirá que as organizações acessem recursos de computação e armazenamento de forma flexível e escalável.\n",
      "\n",
      "### Conclusão\n",
      "\n",
      "Os sistemas de informação são essenciais para o sucesso das organizações no mundo digital. Ao compreender os componentes, os tipos, os benefícios e a evolução dos sistemas de informação, as organizações podem tomar decisões informadas sobre como investir em tecnologia da informação para alcançar seus objetivos.\n",
      "\n"
     ]
    }
   ],
   "source": [
    "x=x.replace('sistema de informação', 'engenharia de software')\n",
    "print(x)"
   ]
  },
  {
   "cell_type": "markdown",
   "metadata": {},
   "source": [
    "### Modificadores\n",
    "- 'r': read\n",
    "- 'w': write\n",
    "- 'a': append"
   ]
  },
  {
   "cell_type": "markdown",
   "metadata": {},
   "source": [
    "Modificador de escrita (write)"
   ]
  },
  {
   "cell_type": "code",
   "execution_count": 22,
   "metadata": {},
   "outputs": [],
   "source": [
    "arquivo_novo=open('sisinfo2.txt','w', encoding='utf-8')\n",
    "arquivo_novo.writelines(x)\n",
    "arquivo_novo.close()"
   ]
  }
 ],
 "metadata": {
  "kernelspec": {
   "display_name": "Python 3",
   "language": "python",
   "name": "python3"
  },
  "language_info": {
   "codemirror_mode": {
    "name": "ipython",
    "version": 3
   },
   "file_extension": ".py",
   "mimetype": "text/x-python",
   "name": "python",
   "nbconvert_exporter": "python",
   "pygments_lexer": "ipython3",
   "version": "3.12.5"
  }
 },
 "nbformat": 4,
 "nbformat_minor": 2
}
