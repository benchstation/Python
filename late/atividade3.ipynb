{
 "cells": [
  {
   "cell_type": "markdown",
   "metadata": {},
   "source": [
    "## Atividades Bases da Computação III\n",
    "\n",
    "Curso: Sistemas de Informação (3º Semestre)\n",
    "\n",
    "------------"
   ]
  },
  {
   "cell_type": "markdown",
   "metadata": {},
   "source": [
    "## Atividade 3\n",
    "\n",
    "Essa atividade visa conectarmos os conteúdos vistos até esse momento.\n",
    "\n",
    "Peço que redefinam a classe Fila começando pelo seu único atributo `data`, em vez de usar um vetor do Python, usar uma instância de Lista. \n",
    "Para isso, devem ser implementados novos métodos na classe Lista, descubra quais são. \n",
    "Fazer todas as adaptações necessárias na classe Fila (seu atributo e métodos).\n",
    "\n",
    "Quando estiver com a classe Fila redefinida, implementar uma solução para o \n",
    "seguinte problema: \n",
    "- Dado um arquivo de texto de nome `inscritos.txt` contendo uma lista de nomes (string) e a categoria de atendimento (normal: 'n', ou prioritário: 'p'), com o separador vírgula em cada linha (Ex: Fulano de Tal, 'p'); implemente um código em Python que leia esse arquivo e gere uma lista de atendimentos a serem realizados em um determinado órgão público.  \n",
    "- A ordem de atendimento deve ser: a cada cinco prioritários que saem da fila, três normais também são atendidos e assim sucessivamente. Ou \n",
    "seja, seguindo a lógica p, p, p, p, p, n, n, n, p, p, p, p, p, n, n, n... \n",
    "- Dentro de cada categoria a ordem é a mesma lida no arquivo.  \n",
    "- Os atendimentos são realizados de meia em meia hora, começando o primeiro às 11h00 e terminando o último às 15h30, dentro de um mesmo \n",
    "dia, ou seja, o horário de atendimento deve ser impresso, junto com o nome e a categoria. \n",
    "- Caso a lista tenha mais nomes que a quantidade de atendimentos possíveis dentro de um dia de expediente, a solução deve imprimir o \n",
    "atendimento para quantos dias que forem necessários, colocando um texto \"1º dia\", \"2º dia\", ... e assim por diante, antes de listar os \n",
    "atendimentos de cada dia. \n",
    "- O resultado do código deve ser salvo em um arquivo de nome `ordemAtendimento.txt`. Esse arquivo deve ter a lista com a ordem de \n",
    "atendimento com a informação do dia, do horário, do nome da pessoa e da sua categoria, em cada linha. "
   ]
  },
  {
   "cell_type": "markdown",
   "metadata": {},
   "source": [
    "### Definição das Classes"
   ]
  },
  {
   "cell_type": "code",
   "execution_count": 13,
   "metadata": {},
   "outputs": [],
   "source": [
    "class No:\n",
    "    def __init__(self, conteudo, proximo=None):\n",
    "        self.conteudo = conteudo\n",
    "        self.proximo = proximo"
   ]
  },
  {
   "cell_type": "code",
   "execution_count": 14,
   "metadata": {},
   "outputs": [],
   "source": [
    "class Lista:\n",
    "    def __init__(self):\n",
    "        self.cabeca = No(-1)\n",
    "        self.fim = self.cabeca\n",
    "\n",
    "    def vazia(self):\n",
    "        return self.cabeca == self.fim\n",
    "\n",
    "    def insereNoFim(self, x):\n",
    "        novo_no = No(x)\n",
    "        self.fim.proximo = novo_no\n",
    "        self.fim = novo_no\n",
    "\n",
    "    def removeInicio(self):\n",
    "        if self.vazia():\n",
    "            print(\"A lista está vazia.\")\n",
    "            return None\n",
    "        primeiro = self.cabeca.proximo.conteudo\n",
    "        self.cabeca.proximo = self.cabeca.proximo.proximo\n",
    "        if self.cabeca.proximo is None:\n",
    "            self.fim = self.cabeca\n",
    "        return primeiro\n",
    "\n",
    "    def imprime(self):\n",
    "        atual = self.cabeca.proximo\n",
    "        while atual is not None:\n",
    "            print(atual.conteudo, end=\" -> \")\n",
    "            atual = atual.proximo\n",
    "        print(\"None\")"
   ]
  },
  {
   "cell_type": "code",
   "execution_count": 15,
   "metadata": {},
   "outputs": [],
   "source": [
    "class Fila:\n",
    "    def __init__(self):\n",
    "        self.data = Lista()\n",
    "\n",
    "    def enfileira(self, x):\n",
    "        self.data.insereNoFim(x)\n",
    "\n",
    "    def desenfileira(self):\n",
    "        return self.data.removeInicio()\n",
    "\n",
    "    def vazia(self):\n",
    "        return self.data.vazia()\n",
    "\n",
    "    def imprime(self):\n",
    "        self.data.imprime()"
   ]
  },
  {
   "cell_type": "markdown",
   "metadata": {},
   "source": [
    "### Função para processar a ordem de atendimento"
   ]
  },
  {
   "cell_type": "code",
   "execution_count": 16,
   "metadata": {},
   "outputs": [],
   "source": [
    "def processaAtendimentos(nome_arquivo_entrada, nome_arquivo_saida):\n",
    "    # Lendo o arquivo de inscritos\n",
    "    with open(nome_arquivo_entrada, \"r\") as f:\n",
    "        linhas = f.readlines()\n",
    "\n",
    "    fila_normal = Fila()\n",
    "    fila_prioritario = Fila()\n",
    "\n",
    "    for linha in linhas:\n",
    "        nome, categoria = linha.strip().split(\", \")\n",
    "        if categoria == 'n':\n",
    "            fila_normal.enfileira(nome)\n",
    "        elif categoria == 'p':\n",
    "            fila_prioritario.enfileira(nome)\n",
    "\n",
    "    # Gerando o cronograma de atendimentos\n",
    "    horario_inicio = 11 * 60  # Horário inicial em minutos (11h00)\n",
    "    intervalo = 30\n",
    "    horario_maximo = 15 * 60 + 30  # Horário final em minutos (15h30)\n",
    "    atendimentos_por_dia = (horario_maximo - horario_inicio) // intervalo\n",
    "    ordem_atendimento = []\n",
    "    dia = 1\n",
    "\n",
    "    while not fila_normal.vazia() or not fila_prioritario.vazia():\n",
    "        ordem_atendimento.append(f\"Dia {dia}:\")\n",
    "        horario_atual = horario_inicio\n",
    "        count_atendimentos = 0\n",
    "\n",
    "        while horario_atual < horario_maximo and (not fila_normal.vazia() or not fila_prioritario.vazia()):\n",
    "            for _ in range(5):  # Atender 5 prioritários\n",
    "                if not fila_prioritario.vazia() and count_atendimentos < atendimentos_por_dia:\n",
    "                    nome = fila_prioritario.desenfileira()\n",
    "                    horario_formatado = f\"{horario_atual // 60:02}:{horario_atual % 60:02}\"\n",
    "                    ordem_atendimento.append(f\"{horario_formatado} - {nome} (prioritario)\")\n",
    "                    horario_atual += intervalo\n",
    "                    count_atendimentos += 1\n",
    "\n",
    "            for _ in range(3):  # Atender 3 normais\n",
    "                if not fila_normal.vazia() and count_atendimentos < atendimentos_por_dia:\n",
    "                    nome = fila_normal.desenfileira()\n",
    "                    horario_formatado = f\"{horario_atual // 60:02}:{horario_atual % 60:02}\"\n",
    "                    ordem_atendimento.append(f\"{horario_formatado} - {nome} (normal)\")\n",
    "                    horario_atual += intervalo\n",
    "                    count_atendimentos += 1\n",
    "\n",
    "        dia += 1  # Passa para o próximo dia\n",
    "\n",
    "    # Salvando o cronograma no arquivo de saída\n",
    "    with open(nome_arquivo_saida, \"w\") as f:\n",
    "        for linha in ordem_atendimento:\n",
    "            f.write(linha + \"\\n\")\n",
    "\n",
    "# Testando a solução\n",
    "processaAtendimentos(\"inscritos.txt\", \"ordemAtendimento.txt\")"
   ]
  },
  {
   "cell_type": "markdown",
   "metadata": {},
   "source": [
    "> Favor checar o arquivo de output `ordemAtendimento.txt`"
   ]
  }
 ],
 "metadata": {
  "kernelspec": {
   "display_name": "Python 3",
   "language": "python",
   "name": "python3"
  },
  "language_info": {
   "codemirror_mode": {
    "name": "ipython",
    "version": 3
   },
   "file_extension": ".py",
   "mimetype": "text/x-python",
   "name": "python",
   "nbconvert_exporter": "python",
   "pygments_lexer": "ipython3",
   "version": "3.11.9"
  }
 },
 "nbformat": 4,
 "nbformat_minor": 2
}
