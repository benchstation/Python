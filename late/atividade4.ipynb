{
 "cells": [
  {
   "cell_type": "markdown",
   "metadata": {},
   "source": [
    "## Atividades Bases da Computação III\n",
    "\n",
    "Curso: Sistemas de Informação (3º Semestre)\n",
    "\n",
    "------------"
   ]
  },
  {
   "cell_type": "markdown",
   "metadata": {},
   "source": [
    "## Atividade 4\n",
    "\n",
    "Essa atividade visa estudarmos um pouco mais os conteúdos vistos na última aula, assim como prepará-los para o que será visto nas próximas.\n",
    "\n",
    "Para os cinco algoritmos de ordenação vistos em aula: \n",
    "- Faça a versão de ordenação em ordem **decrescente** de cada um. \n",
    "- Para um vetor de **tamanho dez**, formado por números aleatórios (desordenados), calcule o tempo de execução de cada algoritmo (use uma \n",
    "função pronta do Python para medir esse tempo). \n",
    "- Repita a medida dos tempos do item anterior, mas agora com um vetor de **tamanho vinte**. \n",
    "- Compare os tempos, tire conclusões sobre os resultados encontrados e coloque em células de texto do Google Colab.\n",
    "\n",
    "**OBS:** Os cinco algoritmos de ordenação vistos foram: \n",
    "- Bubble Sort\n",
    "- Insertion Sort\n",
    "- Selection Sort\n",
    "- Merge Sort\n",
    "- Quick Sort"
   ]
  },
  {
   "cell_type": "markdown",
   "metadata": {},
   "source": [
    "#### (Se der tempo, rever essa atividade)"
   ]
  },
  {
   "cell_type": "markdown",
   "metadata": {},
   "source": [
    "## Ordenação"
   ]
  },
  {
   "cell_type": "markdown",
   "metadata": {},
   "source": [
    "### Não recursivos"
   ]
  },
  {
   "cell_type": "code",
   "execution_count": 5,
   "metadata": {},
   "outputs": [],
   "source": [
    "def bubble_sort(v):\n",
    "  for i in range(len(v)-1):\n",
    "    for j in range(len(v)-i-1):\n",
    "      if v[j] > v[j+1]:\n",
    "        v[j], v[j+1] = v[j+1], v[j]\n",
    "      print(v)\n",
    "  return(v)\n",
    "\n",
    "def insertion_sort(v):\n",
    "  for i in range(1,len(v)):\n",
    "    aux = v[i]\n",
    "    j = i-1\n",
    "    while j>=0 and aux < v[j]:\n",
    "      v[j+1]=v[j]\n",
    "      j=j-1\n",
    "    v[j+1]=aux\n",
    "    print(v)\n",
    "  print(v)\n",
    "  return v\n",
    "\n",
    "def selection_sort(v):\n",
    "  for i in range(len(v)):\n",
    "    menor = v[i]\n",
    "    j = i+1\n",
    "    while j<len(v):\n",
    "      if v[j]<menor:\n",
    "        menor = v[j]\n",
    "      j+=1\n",
    "    if menor != v[i]:\n",
    "      v[v.index(menor)]=v[i]\n",
    "      v[i]=menor\n",
    "    print(v)\n",
    "  return v"
   ]
  },
  {
   "cell_type": "markdown",
   "metadata": {},
   "source": [
    "### Recursivos"
   ]
  },
  {
   "cell_type": "code",
   "execution_count": 6,
   "metadata": {},
   "outputs": [],
   "source": [
    "def merge_sort(v, ini, fim):\n",
    "  if ini<fim:\n",
    "    meio = (ini+fim)//2\n",
    "    merge_sort(v,ini,meio)\n",
    "    merge_sort(v,meio+1,fim)\n",
    "    intercala(v,ini,meio,fim)\n",
    "  return v\n",
    "\n",
    "def intercala(v,ini,meio,fim):\n",
    "  L = v[ini:meio+1]\n",
    "  R = v[meio+1:fim+1]\n",
    "  L.append(999) #sentinela\n",
    "  R.append(999) #sentinela\n",
    "  i = 0\n",
    "  j = 0\n",
    "  for k in range(ini,fim+1):\n",
    "    if L[i]<=R[j]:\n",
    "      v[k]=L[i]\n",
    "      i += 1\n",
    "    else:\n",
    "      v[k]=R[j]\n",
    "      j += 1"
   ]
  },
  {
   "cell_type": "code",
   "execution_count": 7,
   "metadata": {},
   "outputs": [],
   "source": [
    "def quick_sort(v, ini, fim):\n",
    "  meio = (ini+fim)//2\n",
    "  if ini<fim:\n",
    "    pivo = v[meio]\n",
    "    i = ini\n",
    "    j = fim\n",
    "    while i<j:\n",
    "      while v[i]<pivo:\n",
    "        i += 1\n",
    "      while v[j]>pivo:\n",
    "        j -= 1\n",
    "      if i<=j:\n",
    "        v[i], v[j] = v[j], v[i]\n",
    "      i += 1\n",
    "      j -= 1\n",
    "    if j>ini:\n",
    "      quick_sort(v,ini,j)\n",
    "    if i<fim:\n",
    "      quick_sort(v,i,fim)\n",
    "  return v"
   ]
  },
  {
   "cell_type": "markdown",
   "metadata": {},
   "source": [
    "### Imports"
   ]
  },
  {
   "cell_type": "code",
   "execution_count": 8,
   "metadata": {},
   "outputs": [],
   "source": [
    "import random\n",
    "import time"
   ]
  },
  {
   "cell_type": "markdown",
   "metadata": {},
   "source": [
    "### Bubble Sort em ordem decrescente"
   ]
  },
  {
   "cell_type": "code",
   "execution_count": 9,
   "metadata": {},
   "outputs": [],
   "source": [
    "def bubble_sort_desc(v):\n",
    "    for i in range(len(v)-1):\n",
    "        for j in range(len(v)-i-1):\n",
    "            if v[j] < v[j+1]:  # Alteração: (>) --- (<)\n",
    "                v[j], v[j+1] = v[j+1], v[j]\n",
    "    return v"
   ]
  },
  {
   "cell_type": "markdown",
   "metadata": {},
   "source": [
    "### Insertion Sort em ordem decrescente"
   ]
  },
  {
   "cell_type": "code",
   "execution_count": 10,
   "metadata": {},
   "outputs": [],
   "source": [
    "def insertion_sort_desc(v):\n",
    "    for i in range(1, len(v)):\n",
    "        aux = v[i]\n",
    "        j = i - 1\n",
    "        while j >= 0 and aux > v[j]: # Alteração: (aux <) --- (aux >)\n",
    "            v[j + 1] = v[j]\n",
    "            j -= 1\n",
    "        v[j + 1] = aux\n",
    "    return v"
   ]
  },
  {
   "cell_type": "markdown",
   "metadata": {},
   "source": [
    "### Selection Sort em ordem decrescente"
   ]
  },
  {
   "cell_type": "code",
   "execution_count": 11,
   "metadata": {},
   "outputs": [],
   "source": [
    "def selection_sort_desc(v):\n",
    "    for i in range(len(v)):\n",
    "        maior = v[i]  # Alteração: menor --- maior\n",
    "        j = i + 1\n",
    "        while j < len(v):\n",
    "            if v[j] > maior:   # Alteração: (<) --- (>)\n",
    "                maior = v[j]\n",
    "            j += 1\n",
    "        if maior != v[i]:\n",
    "            v[v.index(maior)] = v[i]\n",
    "            v[i] = maior\n",
    "    return v"
   ]
  },
  {
   "cell_type": "markdown",
   "metadata": {},
   "source": [
    "### Merge Sort em ordem decrescente"
   ]
  },
  {
   "cell_type": "code",
   "execution_count": 12,
   "metadata": {},
   "outputs": [],
   "source": [
    "def merge_sort_desc(v):\n",
    "    if len(v) > 1:\n",
    "        meio = len(v) // 2\n",
    "        esquerda = v[:meio]\n",
    "        direita = v[meio:]\n",
    "        merge_sort_desc(esquerda)\n",
    "        merge_sort_desc(direita)\n",
    "\n",
    "        i = j = k = 0\n",
    "        while i < len(esquerda) and j < len(direita):\n",
    "            if esquerda[i] > direita[j]:\n",
    "                v[k] = esquerda[i]\n",
    "                i += 1\n",
    "            else:\n",
    "                v[k] = direita[j]\n",
    "                j += 1\n",
    "            k += 1\n",
    "        while i < len(esquerda):\n",
    "            v[k] = esquerda[i]\n",
    "            i += 1\n",
    "            k += 1\n",
    "        while j < len(direita):\n",
    "            v[k] = direita[j]\n",
    "            j += 1\n",
    "            k += 1\n",
    "    return v"
   ]
  },
  {
   "cell_type": "markdown",
   "metadata": {},
   "source": [
    "### Quick Sort em ordem decrescente"
   ]
  },
  {
   "cell_type": "code",
   "execution_count": 13,
   "metadata": {},
   "outputs": [],
   "source": [
    "def quick_sort_desc(v):\n",
    "    if len(v) <= 1:\n",
    "        return v\n",
    "    else:\n",
    "        pivo = v[0]\n",
    "        maiores = [x for x in v[1:] if x > pivo]\n",
    "        menores = [x for x in v[1:] if x <= pivo]\n",
    "        return quick_sort_desc(maiores) + [pivo] + quick_sort_desc(menores)"
   ]
  },
  {
   "cell_type": "markdown",
   "metadata": {},
   "source": [
    "### Função para medir tempo de execução"
   ]
  },
  {
   "cell_type": "code",
   "execution_count": 14,
   "metadata": {},
   "outputs": [],
   "source": [
    "def medir_tempo(algoritmo, vetor):\n",
    "    inicio = time.time()\n",
    "    algoritmo(vetor)\n",
    "    fim = time.time()\n",
    "    return fim - inicio"
   ]
  },
  {
   "cell_type": "markdown",
   "metadata": {},
   "source": [
    "### Testagem"
   ]
  },
  {
   "cell_type": "code",
   "execution_count": 15,
   "metadata": {},
   "outputs": [
    {
     "name": "stdout",
     "output_type": "stream",
     "text": [
      "Resultados para vetor de tamanho 10:\n",
      "Bubble Sort: 0.000000 segundos\n",
      "Insertion Sort: 0.000000 segundos\n",
      "Selection Sort: 0.000000 segundos\n",
      "Merge Sort: 0.000000 segundos\n",
      "Quick Sort: 0.000000 segundos\n",
      "\n",
      "Resultados para vetor de tamanho 20:\n",
      "Bubble Sort: 0.000000 segundos\n",
      "Insertion Sort: 0.000000 segundos\n",
      "Selection Sort: 0.000000 segundos\n",
      "Merge Sort: 0.000000 segundos\n",
      "Quick Sort: 0.000000 segundos\n"
     ]
    }
   ],
   "source": [
    "vetor_10 = [random.randint(1, 100) for _ in range(10)]\n",
    "vetor_20 = [random.randint(1, 100) for _ in range(20)]\n",
    "\n",
    "algoritmos = {\n",
    "    \"Bubble Sort\": bubble_sort_desc,\n",
    "    \"Insertion Sort\": insertion_sort_desc,\n",
    "    \"Selection Sort\": selection_sort_desc,\n",
    "    \"Merge Sort\": merge_sort_desc,\n",
    "    \"Quick Sort\": quick_sort_desc,\n",
    "}\n",
    "\n",
    "print(\"Resultados para vetor de tamanho 10:\")\n",
    "for nome, func in algoritmos.items():\n",
    "    vetor_copia = vetor_10.copy()\n",
    "    tempo = medir_tempo(func, vetor_copia)\n",
    "    print(f\"{nome}: {tempo:.6f} segundos\")\n",
    "\n",
    "print(\"\\nResultados para vetor de tamanho 20:\")\n",
    "for nome, func in algoritmos.items():\n",
    "    vetor_copia = vetor_20.copy()\n",
    "    tempo = medir_tempo(func, vetor_copia)\n",
    "    print(f\"{nome}: {tempo:.6f} segundos\")\n"
   ]
  }
 ],
 "metadata": {
  "kernelspec": {
   "display_name": "Python 3",
   "language": "python",
   "name": "python3"
  },
  "language_info": {
   "codemirror_mode": {
    "name": "ipython",
    "version": 3
   },
   "file_extension": ".py",
   "mimetype": "text/x-python",
   "name": "python",
   "nbconvert_exporter": "python",
   "pygments_lexer": "ipython3",
   "version": "3.11.9"
  }
 },
 "nbformat": 4,
 "nbformat_minor": 2
}
