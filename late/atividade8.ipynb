{
 "cells": [
  {
   "cell_type": "markdown",
   "metadata": {},
   "source": [
    "## Atividades Bases da Computação III\n",
    "\n",
    "Curso: Sistemas de Informação (3º Semestre)\n",
    "\n",
    "------------"
   ]
  },
  {
   "cell_type": "markdown",
   "metadata": {},
   "source": [
    "### Atividade 8\n",
    "\n",
    "Essa atividade visa estudarmos os conteúdos sobre grafos vistos em aula e no material. \n",
    "A ideia é implementar uma estrutura de dados em grafo em Python. \n",
    "\n",
    "Peço que implementem um novo notebook no Google Colab com a seguinte classe: \n",
    "- Grafo (com o atributo dic (que tem o tipo dicionário)) (o dicionário \n",
    "inicializa vazio, mas a ideia é mapear a cada nó a sua lista de vizinhos). \n",
    "\n",
    "O grafo deve ter os seguintes métodos: \n",
    "- Inserir aresta com um nó origem e um destino no grafo \n",
    "- Calcula o caminho mais curto entre dois nós (usar busca em largura) \n",
    "\n",
    "Faça testes, comente o código, use os textos entre os códigos para explicar o \n",
    "que tem em cada chunk. "
   ]
  },
  {
   "cell_type": "markdown",
   "metadata": {},
   "source": [
    "### Imports"
   ]
  },
  {
   "cell_type": "code",
   "execution_count": 2,
   "metadata": {},
   "outputs": [],
   "source": [
    "from collections import deque"
   ]
  },
  {
   "cell_type": "markdown",
   "metadata": {},
   "source": [
    "### Definição da Classe"
   ]
  },
  {
   "cell_type": "code",
   "execution_count": 3,
   "metadata": {},
   "outputs": [],
   "source": [
    "class Grafo:\n",
    "    def __init__(self):\n",
    "        self.dic = {}\n",
    "\n",
    "    def inserir_aresta(self, origem, destino):\n",
    "        # Se o nó origem não existe no dicionário, cria uma entrada com uma lista vazia\n",
    "        if origem not in self.dic:\n",
    "            self.dic[origem] = []\n",
    "        # Se o nó destino não existe no dicionário, cria uma entrada com uma lista vazia\n",
    "        if destino not in self.dic:\n",
    "            self.dic[destino] = []\n",
    "        \n",
    "        # Adiciona a aresta do nó origem para o nó destino (não direcionada)\n",
    "        self.dic[origem].append(destino)\n",
    "        self.dic[destino].append(origem)\n",
    "\n",
    "    def caminho_mais_curto(self, inicio, fim):\n",
    "        # Verifica se o nó de origem e o nó de destino existem\n",
    "        if inicio not in self.dic or fim not in self.dic:\n",
    "            return None\n",
    "        \n",
    "        # Fila para a busca em largura\n",
    "        fila = deque([[inicio]])  # Cada item na fila é uma lista representando o caminho\n",
    "        visitados = set([inicio])  # Conjunto de nós visitados para evitar ciclos\n",
    "\n",
    "        while fila:\n",
    "            caminho = fila.popleft()  # Retira o primeiro caminho da fila\n",
    "            no_atual = caminho[-1]   # O último nó do caminho\n",
    "\n",
    "            # Se encontramos o nó de destino, retorna o caminho\n",
    "            if no_atual == fim:\n",
    "                return caminho\n",
    "\n",
    "            # Verifica os vizinhos do nó atual\n",
    "            for vizinho in self.dic[no_atual]:\n",
    "                if vizinho not in visitados:\n",
    "                    # Cria um novo caminho com o vizinho adicionado\n",
    "                    fila.append(caminho + [vizinho])\n",
    "                    visitados.add(vizinho)\n",
    "\n",
    "        # Se não encontrar o caminho\n",
    "        return None"
   ]
  },
  {
   "cell_type": "markdown",
   "metadata": {},
   "source": [
    "### Testagem"
   ]
  },
  {
   "cell_type": "code",
   "execution_count": 4,
   "metadata": {},
   "outputs": [
    {
     "name": "stdout",
     "output_type": "stream",
     "text": [
      "Grafo: {'A': ['B', 'C'], 'B': ['A', 'D'], 'C': ['A', 'D'], 'D': ['B', 'C', 'E'], 'E': ['D']}\n",
      "Caminho mais curto entre A e E: ['A', 'B', 'D', 'E']\n",
      "Caminho mais curto entre A e D: ['A', 'B', 'D']\n",
      "Caminho mais curto entre A e B: ['A', 'B']\n",
      "Caminho mais curto entre A e F: None\n"
     ]
    }
   ],
   "source": [
    "grafo = Grafo()\n",
    "\n",
    "# Inserindo arestas (grafo não direcionado)\n",
    "grafo.inserir_aresta('A', 'B')\n",
    "grafo.inserir_aresta('A', 'C')\n",
    "grafo.inserir_aresta('B', 'D')\n",
    "grafo.inserir_aresta('C', 'D')\n",
    "grafo.inserir_aresta('D', 'E')\n",
    "\n",
    "# Imprimindo o grafo\n",
    "print(\"Grafo:\", grafo.dic)\n",
    "\n",
    "# Testando a busca do caminho mais curto\n",
    "caminho = grafo.caminho_mais_curto('A', 'E')\n",
    "print(\"Caminho mais curto entre A e E:\", caminho)\n",
    "\n",
    "# Testando caminho entre A e D\n",
    "caminho = grafo.caminho_mais_curto('A', 'D')\n",
    "print(\"Caminho mais curto entre A e D:\", caminho)\n",
    "\n",
    "# Testando caminho entre A e B (caminho direto)\n",
    "caminho = grafo.caminho_mais_curto('A', 'B')\n",
    "print(\"Caminho mais curto entre A e B:\", caminho)\n",
    "\n",
    "# Testando caminho entre nós desconectados\n",
    "caminho = grafo.caminho_mais_curto('A', 'F')\n",
    "print(\"Caminho mais curto entre A e F:\", caminho)\n"
   ]
  }
 ],
 "metadata": {
  "kernelspec": {
   "display_name": "Python 3",
   "language": "python",
   "name": "python3"
  },
  "language_info": {
   "codemirror_mode": {
    "name": "ipython",
    "version": 3
   },
   "file_extension": ".py",
   "mimetype": "text/x-python",
   "name": "python",
   "nbconvert_exporter": "python",
   "pygments_lexer": "ipython3",
   "version": "3.11.9"
  }
 },
 "nbformat": 4,
 "nbformat_minor": 2
}
