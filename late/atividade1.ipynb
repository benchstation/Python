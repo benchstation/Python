{
 "cells": [
  {
   "cell_type": "markdown",
   "metadata": {},
   "source": [
    "## Atividades Bases da Computação III\n",
    "\n",
    "Curso: Sistemas de Informação (3º Semestre)\n",
    "\n",
    "------------"
   ]
  },
  {
   "cell_type": "markdown",
   "metadata": {},
   "source": [
    "## Atividade 1\n",
    "Essa atividade visa dar os primeiros passos em implementação Python pelo Colab do conteúdo de listas.\n",
    "\n",
    "Peço que implementem um novo notebook no Google Colab com as classes No e Lista que foram vistas em aula e com novos métodos: \n",
    "- Método que imprime apenas os três primeiros elementos da lista; \n",
    "- Método que insere um elemento no início da lista; \n",
    "- Método que remove o primeiro elemento da lista; \n",
    "- Método que remove os números pares da lista; \n",
    "- Método que retorna o tamanho da lista. "
   ]
  },
  {
   "cell_type": "markdown",
   "metadata": {},
   "source": [
    "### Definição da Classe Nó"
   ]
  },
  {
   "cell_type": "code",
   "execution_count": 57,
   "metadata": {},
   "outputs": [],
   "source": [
    "class No:\n",
    "    def __init__(self, conteudo, proximo=None):\n",
    "        self.conteudo = conteudo\n",
    "        self.proximo = proximo\n",
    "\n",
    "    def __str__(self):\n",
    "        return f\"No(conteudo={self.conteudo}, proximo={self.proximo})\""
   ]
  },
  {
   "cell_type": "markdown",
   "metadata": {},
   "source": [
    "### Definição da Classe Lista"
   ]
  },
  {
   "cell_type": "code",
   "execution_count": 58,
   "metadata": {},
   "outputs": [],
   "source": [
    "class Lista:\n",
    "    def __init__(self):\n",
    "        self.cabeca = No(-1)  # Nó cabeça com conteúdo sentinela\n",
    "        self.fim = self.cabeca  # Inicialmente, o fim aponta para o mesmo nó da cabeça\n",
    "\n",
    "    def imprime(self):\n",
    "        atual = self.cabeca.proximo\n",
    "        while atual is not None:  # Imprime até encontrar um valor vazio\n",
    "            print(atual.conteudo)\n",
    "            atual = atual.proximo\n",
    "\n",
    "    def insereNoFim(self, x):\n",
    "        novo_no = No(x)\n",
    "        self.fim.proximo = novo_no  # Atualiza a referência do próximo nó do atual fim\n",
    "        self.fim = novo_no  # Atualiza o nó do fim\n",
    "\n",
    "    def busca(self, x):\n",
    "        atual = self.cabeca.proximo\n",
    "        while atual is not None:  # Percorrendo a lista\n",
    "            if atual.conteudo == x:\n",
    "                return True\n",
    "            atual = atual.proximo\n",
    "        return False\n",
    "\n",
    "    def remove(self, x):\n",
    "        anterior = self.cabeca\n",
    "        atual = self.cabeca.proximo\n",
    "        while atual is not None:\n",
    "            if atual.conteudo == x:\n",
    "                anterior.proximo = atual.proximo\n",
    "                if atual == self.fim:\n",
    "                    self.fim = anterior\n",
    "                return True\n",
    "            anterior = atual\n",
    "            atual = atual.proximo\n",
    "        return False\n",
    "\n",
    "    # Método que imprime apenas os três primeiros elementos da lista\n",
    "    def imprimeTresPrimeiros(self):\n",
    "        atual = self.cabeca.proximo\n",
    "        contador = 0\n",
    "        while atual is not None and contador < 3:\n",
    "            print(atual.conteudo)\n",
    "            atual = atual.proximo\n",
    "            contador += 1\n",
    "\n",
    "    # Método que insere um elemento no início da lista\n",
    "    def insereNoInicio(self, x):\n",
    "        novo_no = No(x, self.cabeca.proximo)\n",
    "        self.cabeca.proximo = novo_no\n",
    "        if self.fim == self.cabeca:\n",
    "            self.fim = novo_no\n",
    "\n",
    "    # Método que remove o primeiro elemento da lista\n",
    "    def removePrimeiro(self):\n",
    "        if self.cabeca.proximo is not None:\n",
    "            self.cabeca.proximo = self.cabeca.proximo.proximo\n",
    "            if self.cabeca.proximo is None:\n",
    "                self.fim = self.cabeca\n",
    "\n",
    "    # Método que remove os números pares da lista\n",
    "    def removePares(self):\n",
    "        anterior = self.cabeca\n",
    "        atual = self.cabeca.proximo\n",
    "        while atual is not None:\n",
    "            print(f\"Verificando {atual.conteudo}...\")  # Depuração\n",
    "            if atual.conteudo % 2 == 0:  # Verifica se o número é par\n",
    "                print(f\"Removendo {atual.conteudo}\")  # Depuração\n",
    "                anterior.proximo = atual.proximo\n",
    "                if atual == self.fim:\n",
    "                    self.fim = anterior\n",
    "            else:\n",
    "                anterior = atual\n",
    "            atual = atual.proximo\n",
    "\n",
    "    # Método que retorna o tamanho da lista\n",
    "    def tamanho(self):\n",
    "        atual = self.cabeca.proximo\n",
    "        contador = 0\n",
    "        while atual is not None:\n",
    "            contador += 1\n",
    "            atual = atual.proximo\n",
    "        return contador"
   ]
  },
  {
   "cell_type": "markdown",
   "metadata": {},
   "source": [
    "### Exemplos de uso"
   ]
  },
  {
   "cell_type": "code",
   "execution_count": 59,
   "metadata": {},
   "outputs": [
    {
     "name": "stdout",
     "output_type": "stream",
     "text": [
      "Todos os elementos na lista:\n",
      "10\n",
      "20\n",
      "30\n",
      "40\n"
     ]
    }
   ],
   "source": [
    "lista = Lista()\n",
    "\n",
    "lista.insereNoFim(10)\n",
    "lista.insereNoFim(20)\n",
    "lista.insereNoFim(30)\n",
    "lista.insereNoFim(40)\n",
    "\n",
    "print(\"Todos os elementos na lista:\")\n",
    "lista.imprime()"
   ]
  },
  {
   "cell_type": "code",
   "execution_count": 60,
   "metadata": {},
   "outputs": [
    {
     "name": "stdout",
     "output_type": "stream",
     "text": [
      "\n",
      "Os três primeiros elementos:\n",
      "10\n",
      "20\n",
      "30\n",
      "\n",
      "Inserindo 5 no início da lista:\n",
      "5\n",
      "10\n",
      "20\n",
      "30\n",
      "40\n"
     ]
    }
   ],
   "source": [
    "print(\"\\nOs três primeiros elementos:\")\n",
    "lista.imprimeTresPrimeiros()\n",
    "\n",
    "print(\"\\nInserindo 5 no início da lista:\")\n",
    "lista.insereNoInicio(5)\n",
    "lista.imprime()"
   ]
  },
  {
   "cell_type": "code",
   "execution_count": 61,
   "metadata": {},
   "outputs": [
    {
     "name": "stdout",
     "output_type": "stream",
     "text": [
      "\n",
      "Removendo o primeiro elemento:\n",
      "10\n",
      "20\n",
      "30\n",
      "40\n",
      "\n",
      "Removendo números pares da lista:\n",
      "Verificando 3...\n",
      "Verificando 5...\n",
      "Verificando 10...\n",
      "Removendo 10\n",
      "Verificando 20...\n",
      "Removendo 20\n",
      "Verificando 30...\n",
      "Removendo 30\n",
      "Verificando 40...\n",
      "Removendo 40\n",
      "3\n",
      "5\n",
      "Tamanho da lista após remoção de pares: 2\n"
     ]
    }
   ],
   "source": [
    "print(\"\\nRemovendo o primeiro elemento:\")\n",
    "lista.removePrimeiro()\n",
    "lista.imprime()\n",
    "\n",
    "lista.insereNoInicio(5)\n",
    "lista.insereNoInicio(3)\n",
    "print(\"\\nRemovendo números pares da lista:\")\n",
    "lista.removePares()\n",
    "lista.imprime()\n",
    "\n",
    "print(\"Tamanho da lista após remoção de pares:\", lista.tamanho())\n"
   ]
  },
  {
   "cell_type": "code",
   "execution_count": 62,
   "metadata": {},
   "outputs": [
    {
     "name": "stdout",
     "output_type": "stream",
     "text": [
      "\n",
      "Removendo o elemento 30:\n",
      "\n",
      "Lista após a remoção do elemento 30:\n",
      "3\n",
      "5\n"
     ]
    }
   ],
   "source": [
    "print(\"\\nRemovendo o elemento 30:\")\n",
    "lista.remove(30)\n",
    "\n",
    "print(\"\\nLista após a remoção do elemento 30:\")\n",
    "lista.imprime()\n"
   ]
  },
  {
   "cell_type": "code",
   "execution_count": 63,
   "metadata": {},
   "outputs": [
    {
     "name": "stdout",
     "output_type": "stream",
     "text": [
      "\n",
      "Buscando elementos:\n",
      "Elemento 10 encontrado? False\n",
      "Elemento 25 encontrado? False\n"
     ]
    }
   ],
   "source": [
    "print(\"\\nBuscando elementos:\")\n",
    "print(\"Elemento 10 encontrado?\" , lista.busca(10))\n",
    "print(\"Elemento 25 encontrado?\" , lista.busca(25))"
   ]
  }
 ],
 "metadata": {
  "kernelspec": {
   "display_name": "Python 3",
   "language": "python",
   "name": "python3"
  },
  "language_info": {
   "codemirror_mode": {
    "name": "ipython",
    "version": 3
   },
   "file_extension": ".py",
   "mimetype": "text/x-python",
   "name": "python",
   "nbconvert_exporter": "python",
   "pygments_lexer": "ipython3",
   "version": "3.11.9"
  }
 },
 "nbformat": 4,
 "nbformat_minor": 2
}
