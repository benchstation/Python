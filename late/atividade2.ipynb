{
 "cells": [
  {
   "cell_type": "markdown",
   "metadata": {},
   "source": [
    "## Atividades Bases da Computação III\n",
    "\n",
    "Curso: Sistemas de Informação (3º Semestre)\n",
    "\n",
    "------------"
   ]
  },
  {
   "cell_type": "markdown",
   "metadata": {},
   "source": [
    "## Atividade 2\n",
    "Essa atividade visa conectarmos os conteúdos vistos nas duas primeiras semanas de aula.\n",
    "\n",
    "Peço que redefinam a classe Pilha começando pelo seu único atributo data, em vez de usar um vetor do Python, usar uma instância de Lista. \n",
    "Para isso, primeiramente deverão ser implementados novos métodos na classe Lista, tais como: \n",
    "1. Imprimir o último elemento da lista \n",
    "2. Remover o último elemento da lista \n",
    "Fazer todas as adaptações necessárias na classe Pilha (seu atributo e métodos).\n",
    "\n",
    "Lembra de usar todos os métodos possíveis que já tinham sido implementados na classe Lista na semana passada durante a aula e da tarefa anterior também.\n",
    "Por gentileza usar um notebook no Google Colab exclusivo para essa atividade, não esqueça de identificar o seu código com seu nome, e escrever objetivos, assim como fazer testes."
   ]
  },
  {
   "cell_type": "code",
   "execution_count": null,
   "metadata": {
    "vscode": {
     "languageId": "plaintext"
    }
   },
   "outputs": [],
   "source": []
  }
 ],
 "metadata": {
  "language_info": {
   "name": "python"
  }
 },
 "nbformat": 4,
 "nbformat_minor": 2
}
