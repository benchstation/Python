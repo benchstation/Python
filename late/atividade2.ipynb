{
 "cells": [
  {
   "cell_type": "markdown",
   "metadata": {},
   "source": [
    "## Atividades Bases da Computação III\n",
    "\n",
    "Curso: Sistemas de Informação (3º Semestre)\n",
    "\n",
    "------------"
   ]
  },
  {
   "cell_type": "markdown",
   "metadata": {},
   "source": [
    "## Atividade 2\n",
    "Essa atividade visa conectarmos os conteúdos vistos nas duas primeiras semanas de aula.\n",
    "\n",
    "Peço que redefinam a classe Pilha começando pelo seu único atributo data, em vez de usar um vetor do Python, usar uma instância de Lista. \n",
    "Para isso, primeiramente deverão ser implementados novos métodos na classe Lista, tais como: \n",
    "1. Imprimir o último elemento da lista \n",
    "2. Remover o último elemento da lista \n",
    "\n",
    "Fazer todas as adaptações necessárias na classe Pilha (seu atributo e métodos).\n",
    "\n",
    "Lembra de usar todos os métodos possíveis que já tinham sido implementados na classe Lista na semana passada durante a aula e da tarefa anterior também.\n",
    "Por gentileza usar um notebook no Google Colab exclusivo para essa atividade, não esqueça de identificar o seu código com seu nome, e escrever objetivos, assim como fazer testes."
   ]
  },
  {
   "cell_type": "markdown",
   "metadata": {},
   "source": [
    "### Definição das Classes"
   ]
  },
  {
   "cell_type": "code",
   "execution_count": 14,
   "metadata": {},
   "outputs": [],
   "source": [
    "class No:\n",
    "    def __init__(self, conteudo, proximo=None):\n",
    "        self.conteudo = conteudo\n",
    "        self.proximo = proximo"
   ]
  },
  {
   "cell_type": "code",
   "execution_count": 15,
   "metadata": {},
   "outputs": [],
   "source": [
    "class Lista:\n",
    "    def __init__(self):\n",
    "        self.cabeca = No(-1)  # Nó cabeça\n",
    "        self.fim = self.cabeca  # Inicialmente o fim aponta para a cabeça\n",
    "\n",
    "    # Método para imprimir os elementos da lista\n",
    "    def imprime(self):\n",
    "        atual = self.cabeca.proximo\n",
    "        while atual is not None:\n",
    "            print(atual.conteudo, end=\" -> \")\n",
    "            atual = atual.proximo\n",
    "        print(\"None\")\n",
    "\n",
    "    # Método para adicionar um elemento no final da lista\n",
    "    def insereNoFim(self, x):\n",
    "        novo_no = No(x)\n",
    "        self.fim.proximo = novo_no\n",
    "        self.fim = novo_no\n",
    "\n",
    "    # Método para imprimir o último elemento da lista\n",
    "    def imprimeUltimo(self):\n",
    "        if self.cabeca == self.fim:\n",
    "            print(\"A lista está vazia.\")\n",
    "        else:\n",
    "            print(f\"Último elemento: {self.fim.conteudo}\")\n",
    "\n",
    "    # Método para remover o último elemento da lista\n",
    "    def removeUltimo(self):\n",
    "        if self.cabeca == self.fim:\n",
    "            print(\"A lista está vazia. Não há elementos para remover.\")\n",
    "            return None\n",
    "        atual = self.cabeca\n",
    "        while atual.proximo != self.fim:  # Percorre até o penúltimo nó\n",
    "            atual = atual.proximo\n",
    "        ultimo = self.fim.conteudo\n",
    "        atual.proximo = None\n",
    "        self.fim = atual\n",
    "        return ultimo\n",
    "\n",
    "    # Método que verifica se a lista está vazia\n",
    "    def vazia(self):\n",
    "        return self.cabeca == self.fim"
   ]
  },
  {
   "cell_type": "code",
   "execution_count": 16,
   "metadata": {},
   "outputs": [],
   "source": [
    "class Pilha:\n",
    "    def __init__(self):\n",
    "        self.data = Lista()\n",
    "\n",
    "    # Método para empilhar (push)\n",
    "    def empilha(self, x):\n",
    "        self.data.insereNoFim(x)\n",
    "\n",
    "    # Método para desempilhar (pop)\n",
    "    def desempilha(self):\n",
    "        if not self.vazia():\n",
    "            return self.data.removeUltimo()\n",
    "        else:\n",
    "            print(\"A pilha está vazia.\")\n",
    "            return None\n",
    "\n",
    "    # Método para visualizar o elemento do topo (top)\n",
    "    def topo(self):\n",
    "        if not self.vazia():\n",
    "            return self.data.fim.conteudo\n",
    "        else:\n",
    "            print(\"A pilha está vazia.\")\n",
    "            return None\n",
    "\n",
    "    # Método para verificar se a pilha está vazia\n",
    "    def vazia(self):\n",
    "        return self.data.vazia()"
   ]
  },
  {
   "cell_type": "markdown",
   "metadata": {},
   "source": [
    "### Testes da Classe Pilha"
   ]
  },
  {
   "cell_type": "code",
   "execution_count": 17,
   "metadata": {},
   "outputs": [
    {
     "name": "stdout",
     "output_type": "stream",
     "text": [
      "Elementos da lista:\n",
      "10 -> 20 -> 30 -> None\n",
      "\n",
      "Imprimindo o último elemento:\n",
      "Último elemento: 30\n",
      "\n",
      "Removendo o último elemento:\n",
      "Removido: 30\n",
      "10 -> 20 -> None\n",
      "\n",
      "Removendo todos os elementos:\n",
      "Removido: 20\n",
      "Removido: 10\n",
      "None\n",
      "\n",
      "Tentando remover de uma lista vazia:\n",
      "A lista está vazia. Não há elementos para remover.\n"
     ]
    }
   ],
   "source": [
    "lista = Lista()\n",
    "lista.insereNoFim(10)\n",
    "lista.insereNoFim(20)\n",
    "lista.insereNoFim(30)\n",
    "print(\"Elementos da lista:\")\n",
    "lista.imprime()\n",
    "\n",
    "print(\"\\nImprimindo o último elemento:\")\n",
    "lista.imprimeUltimo()\n",
    "\n",
    "print(\"\\nRemovendo o último elemento:\")\n",
    "print(f\"Removido: {lista.removeUltimo()}\")\n",
    "lista.imprime()\n",
    "\n",
    "print(\"\\nRemovendo todos os elementos:\")\n",
    "print(f\"Removido: {lista.removeUltimo()}\")\n",
    "print(f\"Removido: {lista.removeUltimo()}\")\n",
    "lista.imprime()\n",
    "\n",
    "print(\"\\nTentando remover de uma lista vazia:\")\n",
    "lista.removeUltimo()\n"
   ]
  },
  {
   "cell_type": "markdown",
   "metadata": {},
   "source": [
    "### Testes da Classe Pilha"
   ]
  },
  {
   "cell_type": "code",
   "execution_count": 18,
   "metadata": {},
   "outputs": [
    {
     "name": "stdout",
     "output_type": "stream",
     "text": [
      "\n",
      "Empilhando elementos:\n",
      "Topo da pilha: 30\n",
      "\n",
      "Desempilhando elementos:\n",
      "Desempilhado: 30\n",
      "Topo da pilha: 20\n",
      "\n",
      "Desempilhando até esvaziar:\n",
      "Desempilhado: 20\n",
      "Desempilhado: 10\n",
      "A pilha está vazia? True\n",
      "\n",
      "Tentando desempilhar de uma pilha vazia:\n",
      "A pilha está vazia.\n"
     ]
    }
   ],
   "source": [
    "pilha = Pilha()\n",
    "\n",
    "print(\"\\nEmpilhando elementos:\")\n",
    "pilha.empilha(10)\n",
    "pilha.empilha(20)\n",
    "pilha.empilha(30)\n",
    "print(\"Topo da pilha:\", pilha.topo())\n",
    "\n",
    "print(\"\\nDesempilhando elementos:\")\n",
    "print(f\"Desempilhado: {pilha.desempilha()}\")\n",
    "print(\"Topo da pilha:\", pilha.topo())\n",
    "\n",
    "print(\"\\nDesempilhando até esvaziar:\")\n",
    "print(f\"Desempilhado: {pilha.desempilha()}\")\n",
    "print(f\"Desempilhado: {pilha.desempilha()}\")\n",
    "print(\"A pilha está vazia?\", pilha.vazia())\n",
    "\n",
    "print(\"\\nTentando desempilhar de uma pilha vazia:\")\n",
    "pilha.desempilha()"
   ]
  }
 ],
 "metadata": {
  "kernelspec": {
   "display_name": "Python 3",
   "language": "python",
   "name": "python3"
  },
  "language_info": {
   "codemirror_mode": {
    "name": "ipython",
    "version": 3
   },
   "file_extension": ".py",
   "mimetype": "text/x-python",
   "name": "python",
   "nbconvert_exporter": "python",
   "pygments_lexer": "ipython3",
   "version": "3.11.9"
  }
 },
 "nbformat": 4,
 "nbformat_minor": 2
}
