{
 "cells": [
  {
   "cell_type": "markdown",
   "metadata": {},
   "source": [
    "## Atividades Bases da Computação III\n",
    "Curso: Sistemas de Informação (3º Semestre)\n",
    "Aluno: Anael Pontes Maia\n",
    "\n",
    "------------"
   ]
  },
  {
   "cell_type": "markdown",
   "metadata": {},
   "source": [
    "## Atividade 1\n",
    "Essa atividade visa dar os primeiros passos em implementação python pelo \n",
    "colab do conteúdo de listas.\n",
    "\n",
    "Peço que implementem um novo notebook no google colab com as classes No e Lista que foram vistas em aula e com novos métodos: \n",
    "- Método que imprime apenas os três primeiros elementos da lista; \n",
    "- Método que insere um elemento no início da lista; \n",
    "- Método que remove o primeiro elemento da lista; \n",
    "- Método que remove os números pares da lista; \n",
    "- Método que retorna o tamanho da lista. \n",
    "\n",
    "O código do notebook do google colab deve ser compartilhado por meio de link em que qualquer pessoa da UnDF possa visualizar. \n",
    "A entrega da sua atividade é o link para o seu código."
   ]
  },
  {
   "cell_type": "code",
   "execution_count": null,
   "metadata": {
    "vscode": {
     "languageId": "plaintext"
    }
   },
   "outputs": [],
   "source": []
  }
 ],
 "metadata": {
  "language_info": {
   "name": "python"
  }
 },
 "nbformat": 4,
 "nbformat_minor": 2
}
