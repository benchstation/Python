{
 "cells": [
  {
   "cell_type": "markdown",
   "metadata": {},
   "source": [
    "# Pilha e Fila\n",
    "Variáveis compostas heterogêneas"
   ]
  },
  {
   "cell_type": "markdown",
   "metadata": {},
   "source": [
    "Declaração da variável Medida"
   ]
  },
  {
   "cell_type": "code",
   "execution_count": 3,
   "metadata": {},
   "outputs": [],
   "source": [
    "class Medida:\n",
    "  def __init__(self,nome,peso,altura):\n",
    "    self.nome = nome\n",
    "    self.peso = peso\n",
    "    self.altura = altura"
   ]
  },
  {
   "cell_type": "code",
   "execution_count": 4,
   "metadata": {},
   "outputs": [],
   "source": [
    "# Instanciação\n",
    "p1 = Medida('José',70,1.65)\n",
    "p2 = Medida('Maria',60,1.6)"
   ]
  },
  {
   "cell_type": "code",
   "execution_count": 7,
   "metadata": {},
   "outputs": [
    {
     "name": "stdout",
     "output_type": "stream",
     "text": [
      "José\n",
      "1.6\n"
     ]
    }
   ],
   "source": [
    "# Acesso a um atributo\n",
    "print(p1.nome)\n",
    "print(p2.altura)"
   ]
  },
  {
   "cell_type": "markdown",
   "metadata": {},
   "source": [
    "### Vetor"
   ]
  },
  {
   "cell_type": "code",
   "execution_count": 9,
   "metadata": {},
   "outputs": [],
   "source": [
    "m=[]\n",
    "m.append(5)\n",
    "m.append(8)"
   ]
  },
  {
   "cell_type": "code",
   "execution_count": 10,
   "metadata": {},
   "outputs": [
    {
     "data": {
      "text/plain": [
       "[5, 8]"
      ]
     },
     "execution_count": 10,
     "metadata": {},
     "output_type": "execute_result"
    }
   ],
   "source": [
    "m"
   ]
  },
  {
   "cell_type": "code",
   "execution_count": 11,
   "metadata": {},
   "outputs": [],
   "source": [
    "v=[]\n",
    "v.append(p1)\n",
    "v.append(p2)"
   ]
  },
  {
   "cell_type": "code",
   "execution_count": 12,
   "metadata": {},
   "outputs": [
    {
     "data": {
      "text/plain": [
       "[<__main__.Medida at 0x1e99b3756a0>, <__main__.Medida at 0x1e99b4ad2e0>]"
      ]
     },
     "execution_count": 12,
     "metadata": {},
     "output_type": "execute_result"
    }
   ],
   "source": [
    "v"
   ]
  },
  {
   "cell_type": "code",
   "execution_count": 13,
   "metadata": {},
   "outputs": [
    {
     "data": {
      "text/plain": [
       "70"
      ]
     },
     "execution_count": 13,
     "metadata": {},
     "output_type": "execute_result"
    }
   ],
   "source": [
    "v[0].peso"
   ]
  },
  {
   "cell_type": "markdown",
   "metadata": {},
   "source": [
    "### Pilha"
   ]
  },
  {
   "cell_type": "markdown",
   "metadata": {},
   "source": [
    "Declaração"
   ]
  },
  {
   "cell_type": "code",
   "execution_count": 19,
   "metadata": {},
   "outputs": [],
   "source": [
    "class Pilha:\n",
    "\tdef __init__(self):\n",
    "\t\tself.data = []\n",
    "\n",
    "\tdef push(self,x):\n",
    "\t\tself.data.append(x)\n",
    "\n",
    "\tdef pop(self):\n",
    "\t\tif len(self.data)>0:\n",
    "\t\t\treturn self.data.pop(-1)\n",
    "\n",
    "\tdef top(self):\n",
    "\t\tif len(self.data)>0:\n",
    "\t\t\treturn self.data[-1]\n",
    "\n",
    "\tdef isEmpty(self):\n",
    "\t\treturn len(self.data)==0"
   ]
  },
  {
   "cell_type": "markdown",
   "metadata": {},
   "source": [
    "Instanciação"
   ]
  },
  {
   "cell_type": "code",
   "execution_count": 20,
   "metadata": {},
   "outputs": [],
   "source": [
    "p=Pilha()\n",
    "p.push(4)\n",
    "p.push(1)\n",
    "p.push(7)\n",
    "p.push(10)\n",
    "p.push(5)\n",
    "p.push(-2)\n",
    "p.push(0)\n"
   ]
  },
  {
   "cell_type": "code",
   "execution_count": 21,
   "metadata": {},
   "outputs": [
    {
     "data": {
      "text/plain": [
       "0"
      ]
     },
     "execution_count": 21,
     "metadata": {},
     "output_type": "execute_result"
    }
   ],
   "source": [
    "p.top()"
   ]
  },
  {
   "cell_type": "code",
   "execution_count": 23,
   "metadata": {},
   "outputs": [
    {
     "data": {
      "text/plain": [
       "False"
      ]
     },
     "execution_count": 23,
     "metadata": {},
     "output_type": "execute_result"
    }
   ],
   "source": [
    "p.isEmpty()"
   ]
  },
  {
   "cell_type": "code",
   "execution_count": 24,
   "metadata": {},
   "outputs": [
    {
     "data": {
      "text/plain": [
       "0"
      ]
     },
     "execution_count": 24,
     "metadata": {},
     "output_type": "execute_result"
    }
   ],
   "source": [
    "p.pop()"
   ]
  },
  {
   "cell_type": "code",
   "execution_count": 25,
   "metadata": {},
   "outputs": [
    {
     "data": {
      "text/plain": [
       "-2"
      ]
     },
     "execution_count": 25,
     "metadata": {},
     "output_type": "execute_result"
    }
   ],
   "source": [
    "p.top()"
   ]
  },
  {
   "cell_type": "markdown",
   "metadata": {},
   "source": [
    "### Fila"
   ]
  },
  {
   "cell_type": "markdown",
   "metadata": {},
   "source": [
    "Declaração"
   ]
  },
  {
   "cell_type": "code",
   "execution_count": 1,
   "metadata": {},
   "outputs": [],
   "source": [
    "class Fila:\n",
    "    def __init__(self):\n",
    "        self.data = []\n",
    "        \n",
    "    def push(self,x):\n",
    "        self.data.append(x)\n",
    "    \n",
    "    def pop(self):\n",
    "        if len(self.data)>0:\n",
    "            return self.data.pop(0)\n",
    "    \n",
    "    def ultimo(self):\n",
    "        if len(self.data)>0:\n",
    "            return self.data[-1]\n",
    "\n",
    "    def primeiro(self):\n",
    "        if len(self.data)>0:\n",
    "            return self.data[0]\n",
    "\n",
    "    def empty(self):\n",
    "        return len(self.data)==0"
   ]
  }
 ],
 "metadata": {
  "kernelspec": {
   "display_name": "Python 3",
   "language": "python",
   "name": "python3"
  },
  "language_info": {
   "codemirror_mode": {
    "name": "ipython",
    "version": 3
   },
   "file_extension": ".py",
   "mimetype": "text/x-python",
   "name": "python",
   "nbconvert_exporter": "python",
   "pygments_lexer": "ipython3",
   "version": "3.12.5"
  }
 },
 "nbformat": 4,
 "nbformat_minor": 2
}
