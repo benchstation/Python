{
 "cells": [
  {
   "cell_type": "markdown",
   "metadata": {},
   "source": [
    "# Exercícios"
   ]
  },
  {
   "cell_type": "markdown",
   "metadata": {},
   "source": [
    "### [EX-1] Conversão de decimal para binário\n",
    "\n",
    "Usar a estrutura de pilha para converter números decimais para binários"
   ]
  },
  {
   "cell_type": "code",
   "execution_count": 4,
   "metadata": {},
   "outputs": [],
   "source": [
    "class Pilha:\n",
    "\tdef __init__(self):\n",
    "\t\tself.data = []\n",
    "\n",
    "\tdef push(self,x):\n",
    "\t\tself.data.append(x)\n",
    "\n",
    "\tdef pop(self):\n",
    "\t\tif len(self.data)>0:\n",
    "\t\t\treturn self.data.pop(-1)\n",
    "\n",
    "\tdef top(self):\n",
    "\t\tif len(self.data)>0:\n",
    "\t\t\treturn self.data[-1]\n",
    "\n",
    "\tdef isEmpty(self):\n",
    "\t\treturn len(self.data)==0"
   ]
  },
  {
   "cell_type": "code",
   "execution_count": 5,
   "metadata": {},
   "outputs": [
    {
     "name": "stdout",
     "output_type": "stream",
     "text": [
      "1\n",
      "1\n",
      "0\n",
      "1\n"
     ]
    }
   ],
   "source": [
    "num=13\n",
    "d=Pilha()\n",
    "while num > 0:\n",
    "  r = num % 2\n",
    "  d.push(r)\n",
    "  num = num // 2\n",
    "\n",
    "while not d.isEmpty():\n",
    "  print(d.pop())"
   ]
  },
  {
   "cell_type": "markdown",
   "metadata": {},
   "source": [
    "### [EX-2] Implementar um programa de gerenciamento de duas filas em um banco (prioritária e normal)\n",
    "\n",
    "O programa deverá permitir que pessoas sejam inseridas ao final de cada fila (dependendo da idade da pessoa, a partir de 60 anos, por exemplo, entra na fila prioritária).\n",
    "\n",
    "A saída de pessoas da fila deve ocorrer da seguinte forma: a cada duas pessoas que saem da fila prioritária, uma sai da fila normal."
   ]
  },
  {
   "cell_type": "markdown",
   "metadata": {},
   "source": [
    "1. Declaração"
   ]
  },
  {
   "cell_type": "code",
   "execution_count": 6,
   "metadata": {},
   "outputs": [],
   "source": [
    "class Fila:\n",
    "    def __init__(self):\n",
    "        self.data = []\n",
    "        \n",
    "    def push(self,x):\n",
    "        self.data.append(x)\n",
    "    \n",
    "    def pop(self):\n",
    "        if len(self.data)>0:\n",
    "            return self.data.pop(0)\n",
    "    \n",
    "    def last(self):\n",
    "        if len(self.data)>0:\n",
    "            return self.data[-1]\n",
    "\n",
    "    def first(self):\n",
    "        if len(self.data)>0:\n",
    "            return self.data[0]\n",
    "\n",
    "    def isEmpty(self):\n",
    "        return len(self.data)==0\n"
   ]
  },
  {
   "cell_type": "code",
   "execution_count": 7,
   "metadata": {},
   "outputs": [],
   "source": [
    "class Banco:\n",
    "    def __init__(self):\n",
    "        self.norm = Fila()\n",
    "        self.prio = Fila()\n",
    "\n",
    "    def insNorm(self, x):\n",
    "        self.norm.push(x)\n",
    "\n",
    "    def insPrio(self, x):\n",
    "        self.prio.push(x)\n",
    "\n",
    "    def ordemAtendimento(self):\n",
    "        while not self.norm.isEmpty() or not self.prio.isEmpty():\n",
    "            if not self.prio.isEmpty():\n",
    "                self.prio.pop()\n",
    "            if not self.prio.isEmpty():\n",
    "                self.prio.pop()\n",
    "            if not self.norm.isEmpty():\n",
    "                self.norm.pop()"
   ]
  },
  {
   "cell_type": "markdown",
   "metadata": {},
   "source": [
    "2. Instanciação e teste"
   ]
  },
  {
   "cell_type": "code",
   "execution_count": 13,
   "metadata": {},
   "outputs": [
    {
     "name": "stdout",
     "output_type": "stream",
     "text": [
      "1\n",
      "5\n",
      "100\n",
      "300\n"
     ]
    }
   ],
   "source": [
    "filaBanco = Banco()\n",
    "\n",
    "filaBanco.insNorm(1)\n",
    "filaBanco.insNorm(2)\n",
    "filaBanco.insNorm(3)\n",
    "filaBanco.insNorm(4)\n",
    "filaBanco.insNorm(5)\n",
    "\n",
    "filaBanco.insPrio(100)\n",
    "filaBanco.insPrio(200)\n",
    "filaBanco.insPrio(300) \n",
    "\n",
    "print(filaBanco.norm.first())\n",
    "print(filaBanco.norm.last())\n",
    "print(filaBanco.prio.first())\n",
    "print(filaBanco.prio.last())\n",
    "# filaBanco.ordemAtendimento(max_elements=3)"
   ]
  }
 ],
 "metadata": {
  "kernelspec": {
   "display_name": "Python 3",
   "language": "python",
   "name": "python3"
  },
  "language_info": {
   "codemirror_mode": {
    "name": "ipython",
    "version": 3
   },
   "file_extension": ".py",
   "mimetype": "text/x-python",
   "name": "python",
   "nbconvert_exporter": "python",
   "pygments_lexer": "ipython3",
   "version": "3.12.5"
  }
 },
 "nbformat": 4,
 "nbformat_minor": 2
}
