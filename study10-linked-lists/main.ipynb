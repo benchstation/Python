{
 "cells": [
  {
   "cell_type": "markdown",
   "metadata": {},
   "source": [
    "# Listas Simples Encadeadas"
   ]
  },
  {
   "cell_type": "markdown",
   "metadata": {},
   "source": [
    "### Definição da Classe Nó"
   ]
  },
  {
   "cell_type": "code",
   "execution_count": 39,
   "metadata": {},
   "outputs": [],
   "source": [
    "class No:\n",
    "  def __init__(self, conteudo, proximo=None):\n",
    "    self.conteudo = conteudo\n",
    "    self.proximo = proximo"
   ]
  },
  {
   "cell_type": "markdown",
   "metadata": {},
   "source": [
    "### Definição da Classe Lista"
   ]
  },
  {
   "cell_type": "code",
   "execution_count": 40,
   "metadata": {},
   "outputs": [],
   "source": [
    "class Lista:\n",
    "  def __init__(self):\n",
    "    self.cabeca = No(-1) # Nó cabeça com conteúdo sentinela\n",
    "    self.fim = self.cabeca #self.fim = None # Inicialmente, fim aponta para a cabeça\n",
    "\n",
    "  def imprime(self):\n",
    "    atual = self.cabeca.proximo\n",
    "    while(atual != None):\n",
    "      print(atual.conteudo)\n",
    "      atual = atual.proximo\n",
    "\n",
    "  def insereNoFim(self, x):\n",
    "    novo = No(x)\n",
    "    self.fim.proximo = novo\n",
    "    self.fim = novo\n",
    "\n",
    "  def busca(self, x):\n",
    "    atual = self.cabeca.proximo\n",
    "    while(atual != None):\n",
    "      if (atual.conteudo == x):\n",
    "        return True\n",
    "      atual = atual.proximo\n",
    "    return False\n",
    "    \n",
    "  def remove(self, x):\n",
    "      anterior = self.cabeca\n",
    "      atual = self.cabeca.proximo\n",
    "      while atual is not None:\n",
    "          if atual.conteudo == x:\n",
    "              anterior.proximo = atual.proximo\n",
    "              if atual == self.fim:  # Atualizar o fim se necessário\n",
    "                  self.fim = anterior\n",
    "              return True\n",
    "          anterior = atual\n",
    "          atual = atual.proximo\n",
    "      return False"
   ]
  },
  {
   "cell_type": "markdown",
   "metadata": {},
   "source": [
    "### Instanciação"
   ]
  },
  {
   "cell_type": "code",
   "execution_count": 41,
   "metadata": {},
   "outputs": [],
   "source": [
    "# Criando uma nova lista\n",
    "lista = Lista()"
   ]
  },
  {
   "cell_type": "markdown",
   "metadata": {},
   "source": [
    "### Uso dos métodos"
   ]
  },
  {
   "cell_type": "code",
   "execution_count": 42,
   "metadata": {},
   "outputs": [
    {
     "name": "stdout",
     "output_type": "stream",
     "text": [
      "Elementos na lista após inserção:\n",
      "10\n",
      "20\n",
      "30\n"
     ]
    }
   ],
   "source": [
    "# Inserindo elementos na lista\n",
    "lista.insereNoFim(10)\n",
    "lista.insereNoFim(20)\n",
    "lista.insereNoFim(30)\n",
    "\n",
    "# Imprimindo a lista\n",
    "print(\"Elementos na lista após inserção:\")\n",
    "lista.imprime()"
   ]
  },
  {
   "cell_type": "code",
   "execution_count": 43,
   "metadata": {},
   "outputs": [
    {
     "name": "stdout",
     "output_type": "stream",
     "text": [
      "\n",
      "Buscando elemento 20:\n",
      "Elemento 20 encontrado\n",
      "Buscando elemento 40:\n",
      "Elemento 40 não encontrado\n"
     ]
    }
   ],
   "source": [
    "# Buscando elementos na lista\n",
    "print(\"\\nBuscando elemento 20:\")\n",
    "encontrado = lista.busca(20)\n",
    "print(f\"Elemento 20 {'encontrado' if encontrado else 'não encontrado'}\")\n",
    "\n",
    "print(\"Buscando elemento 40:\")\n",
    "encontrado = lista.busca(40)\n",
    "print(f\"Elemento 40 {'encontrado' if encontrado else 'não encontrado'}\")"
   ]
  },
  {
   "cell_type": "code",
   "execution_count": 44,
   "metadata": {},
   "outputs": [
    {
     "name": "stdout",
     "output_type": "stream",
     "text": [
      "\n",
      "Removendo elemento 20:\n",
      "Elemento 20 removido\n",
      "\n",
      "Elementos na lista após remoção:\n",
      "10\n",
      "30\n"
     ]
    }
   ],
   "source": [
    "# Removendo um elemento da lista\n",
    "print(\"\\nRemovendo elemento 20:\")\n",
    "removido = lista.remove(20)\n",
    "print(f\"Elemento 20 {'removido' if removido else 'não encontrado'}\")\n",
    "\n",
    "# Imprimindo a lista após remoção\n",
    "print(\"\\nElementos na lista após remoção:\")\n",
    "lista.imprime()"
   ]
  },
  {
   "cell_type": "code",
   "execution_count": 45,
   "metadata": {},
   "outputs": [
    {
     "name": "stdout",
     "output_type": "stream",
     "text": [
      "\n",
      "Tentando remover elemento 40:\n",
      "Elemento 40 não encontrado\n"
     ]
    }
   ],
   "source": [
    "# Tentando remover um elemento que não está na lista\n",
    "print(\"\\nTentando remover elemento 40:\")\n",
    "removido = lista.remove(40)\n",
    "print(f\"Elemento 40 {'removido' if removido else 'não encontrado'}\")"
   ]
  }
 ],
 "metadata": {
  "colab": {
   "provenance": []
  },
  "kernelspec": {
   "display_name": "Python 3",
   "name": "python3"
  },
  "language_info": {
   "codemirror_mode": {
    "name": "ipython",
    "version": 3
   },
   "file_extension": ".py",
   "mimetype": "text/x-python",
   "name": "python",
   "nbconvert_exporter": "python",
   "pygments_lexer": "ipython3",
   "version": "3.12.5"
  }
 },
 "nbformat": 4,
 "nbformat_minor": 0
}
