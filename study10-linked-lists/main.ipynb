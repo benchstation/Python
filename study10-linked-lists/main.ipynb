{
 "cells": [
  {
   "cell_type": "markdown",
   "metadata": {},
   "source": [
    "# Listas Simples Encadeadas"
   ]
  },
  {
   "cell_type": "markdown",
   "metadata": {},
   "source": [
    "### Definição da Classe Nó"
   ]
  },
  {
   "cell_type": "code",
   "execution_count": 108,
   "metadata": {},
   "outputs": [],
   "source": [
    "class Node:\n",
    "\tdef __init__(self, content, next=None):\n",
    "\t\tself.content = content\n",
    "\t\tself.next = next\n",
    "\t\n",
    "\tdef __str__(self):\n",
    "\t\treturn f\"Node(content={self.content}, next={self.next})\""
   ]
  },
  {
   "cell_type": "markdown",
   "metadata": {},
   "source": [
    "### Definição da Classe Lista"
   ]
  },
  {
   "cell_type": "code",
   "execution_count": null,
   "metadata": {},
   "outputs": [],
   "source": [
    "class List:\n",
    "    def __init__(self):\n",
    "        self.head = Node(-1)  # Nó cabeça com conteúdo sentinela (Objeto: Node(-1, nextNode))\n",
    "        self.tail = self.head # Inicialmente, o fim aponta para o mesmo nó da cabeça\n",
    "\n",
    "    def printList(self):\n",
    "        current = self.head.next\n",
    "        while current is not None: # Imprime o próximo nó até chegar em um valor vazio\n",
    "            print(current.content)\n",
    "            current = current.next\n",
    "\n",
    "    def insertAtEnd(self, x):\n",
    "        # print(self.tail) # OUTPUT: Node(content=-1, next=None) ----> tail initial state\n",
    "        \n",
    "\t\t# Create new node\n",
    "        new_node = Node(x)\n",
    "        \n",
    "        # Updates the next reference of the current tail node (which point to head node)\n",
    "        self.tail.next = new_node\n",
    "        # print(self.head) # OUTPUT: Node(content=-1, next=Node(content=10, next=None))\n",
    "        # print(self.tail) # OUTPUT: Node(content=-1, next=Node(content=10, next=None))\n",
    "        \n",
    "\t\t# The tail is updated to refer to the new node\n",
    "        self.tail = new_node\n",
    "        # print(self.tail) # OUTPUT: Node(content=10, next=None)\n",
    "        \n",
    "\t\t# CONCLUSION: The tail node is continuously updated as the list increases. The head node is only updated once.\n",
    "\n",
    "    def search(self, x):\n",
    "        current = self.head.next\n",
    "        \n",
    "\t\t# Runs through the entire list\n",
    "        while current is not None:\n",
    "            if current.content == x:\n",
    "                return True\n",
    "            current = current.next\n",
    "        return False\n",
    "\n",
    "    def remove(self, x):\n",
    "        previous = self.head\n",
    "        current = self.head.next\n",
    "        while current is not None:\n",
    "            if current.content == x:\n",
    "                previous.next = current.next\n",
    "                if current == self.tail:  # Atualizar o fim se necessário\n",
    "                    self.tail = previous\n",
    "                return True\n",
    "            previous = current\n",
    "            current = current.next\n",
    "        return False"
   ]
  },
  {
   "cell_type": "markdown",
   "metadata": {},
   "source": [
    "### Instanciação"
   ]
  },
  {
   "cell_type": "code",
   "execution_count": 110,
   "metadata": {},
   "outputs": [],
   "source": [
    "# Criando uma nova lista\n",
    "list = List()\n",
    "list.printList() # Imprime nada, pois está vazio"
   ]
  },
  {
   "cell_type": "markdown",
   "metadata": {},
   "source": [
    "### Uso dos métodos"
   ]
  },
  {
   "cell_type": "code",
   "execution_count": 111,
   "metadata": {},
   "outputs": [
    {
     "name": "stdout",
     "output_type": "stream",
     "text": [
      "Elementos na lista após inserção:\n",
      "10\n",
      "20\n",
      "30\n"
     ]
    }
   ],
   "source": [
    "# Inserindo elementos na lista\n",
    "list.insertAtEnd(10)\n",
    "list.insertAtEnd(20)\n",
    "list.insertAtEnd(30)\n",
    "\n",
    "# Imprimindo a lista\n",
    "print(\"Elementos na lista após inserção:\")\n",
    "list.printList()"
   ]
  },
  {
   "cell_type": "code",
   "execution_count": 112,
   "metadata": {},
   "outputs": [
    {
     "name": "stdout",
     "output_type": "stream",
     "text": [
      "HEAD:  Node(content=-1, next=Node(content=10, next=Node(content=20, next=Node(content=30, next=None))))\n"
     ]
    }
   ],
   "source": [
    "# The head is the reference of the entire list\n",
    "print(\"HEAD: \", list.head)"
   ]
  },
  {
   "cell_type": "code",
   "execution_count": 113,
   "metadata": {},
   "outputs": [
    {
     "name": "stdout",
     "output_type": "stream",
     "text": [
      "\n",
      "Buscando elemento 20:\n",
      "Elemento 20 encontrado\n",
      "Buscando elemento 40:\n",
      "Elemento 40 não encontrado\n"
     ]
    }
   ],
   "source": [
    "# Buscando elementos na lista\n",
    "print(\"\\nBuscando elemento 20:\")\n",
    "isFound = list.search(20)\n",
    "print(f\"Elemento 20 {'encontrado' if isFound else 'não encontrado'}\")\n",
    "\n",
    "print(\"Buscando elemento 40:\")\n",
    "isFound = list.search(40)\n",
    "print(f\"Elemento 40 {'encontrado' if isFound else 'não encontrado'}\")"
   ]
  },
  {
   "cell_type": "code",
   "execution_count": 114,
   "metadata": {},
   "outputs": [
    {
     "name": "stdout",
     "output_type": "stream",
     "text": [
      "\n",
      "Removendo elemento 20:\n",
      "Elemento 20 removido\n",
      "\n",
      "Elementos na lista após remoção:\n",
      "10\n",
      "30\n"
     ]
    }
   ],
   "source": [
    "# Removendo um elemento da lista\n",
    "print(\"\\nRemovendo elemento 20:\")\n",
    "isRemoved = list.remove(20)\n",
    "print(f\"Elemento 20 {'removido' if isRemoved else 'não encontrado'}\")\n",
    "\n",
    "# Imprimindo a lista após remoção\n",
    "print(\"\\nElementos na lista após remoção:\")\n",
    "list.printList()"
   ]
  },
  {
   "cell_type": "code",
   "execution_count": 115,
   "metadata": {},
   "outputs": [
    {
     "name": "stdout",
     "output_type": "stream",
     "text": [
      "\n",
      "Tentando remover elemento 40:\n",
      "Elemento 40 não encontrado\n"
     ]
    }
   ],
   "source": [
    "# Tentando remover um elemento que não está na lista\n",
    "print(\"\\nTentando remover elemento 40:\")\n",
    "isRemoved = list.remove(40)\n",
    "print(f\"Elemento 40 {'removido' if isRemoved else 'não encontrado'}\")"
   ]
  }
 ],
 "metadata": {
  "colab": {
   "provenance": []
  },
  "kernelspec": {
   "display_name": "Python 3",
   "name": "python3"
  },
  "language_info": {
   "codemirror_mode": {
    "name": "ipython",
    "version": 3
   },
   "file_extension": ".py",
   "mimetype": "text/x-python",
   "name": "python",
   "nbconvert_exporter": "python",
   "pygments_lexer": "ipython3",
   "version": "3.12.5"
  }
 },
 "nbformat": 4,
 "nbformat_minor": 0
}
